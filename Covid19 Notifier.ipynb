{
 "cells": [
  {
   "cell_type": "code",
   "execution_count": 1,
   "metadata": {
    "scrolled": true
   },
   "outputs": [],
   "source": [
    "from urllib.request import urlopen, Request\n",
    "from bs4 import BeautifulSoup as bs\n",
    "from win10toast import ToastNotifier"
   ]
  },
  {
   "cell_type": "code",
   "execution_count": 2,
   "metadata": {},
   "outputs": [],
   "source": [
    "def updates():\n",
    "    header = {'User-Agent':'Mozilla'}\n",
    "    req = Request('https://www.worldometers.info/coronavirus/country/india/', headers=header)\n",
    "    html = urlopen(req)\n",
    "    obj = bs(html)\n",
    "    total_cases = obj.find('div', {'class':'maincounter-number'}).span.text\n",
    "    total_recovered_cases = obj.find_all('div', {'class':'maincounter-number'})[2].span.text\n",
    "    total_deaths = obj.find_all('div', {'class':'maincounter-number'})[1].span.text\n",
    "    new_cases = obj.find('li', {'class':'news_li'}).strong.text.split()[0]\n",
    "    message = 'Total Cases - '+ total_cases +'\\nRecovered Cases - '+ total_recovered_cases +'\\nDeaths - '+ total_deaths +'\\nNew Cases - '+ new_cases\n",
    "    #to get update every 10 minutes we set == 600 secs\n",
    "    notifier = ToastNotifier()\n",
    "    notification = notifier.show_toast(title='COVID-19 INDIA Update', msg=message, duration=600, icon_path=r\"C:\\Users\\Admin\\Desktop\\covid notifier\\covid19.ico\")\n",
    "    return notification"
   ]
  },
  {
   "cell_type": "code",
   "execution_count": null,
   "metadata": {
    "scrolled": true
   },
   "outputs": [],
   "source": [
    "while True:\n",
    "    print(updates())"
   ]
  }
 ],
 "metadata": {
  "kernelspec": {
   "display_name": "Python 3",
   "language": "python",
   "name": "python3"
  },
  "language_info": {
   "codemirror_mode": {
    "name": "ipython",
    "version": 3
   },
   "file_extension": ".py",
   "mimetype": "text/x-python",
   "name": "python",
   "nbconvert_exporter": "python",
   "pygments_lexer": "ipython3",
   "version": "3.7.7"
  }
 },
 "nbformat": 4,
 "nbformat_minor": 4
}
